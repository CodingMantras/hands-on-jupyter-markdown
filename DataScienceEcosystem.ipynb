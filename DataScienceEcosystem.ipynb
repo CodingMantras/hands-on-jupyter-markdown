{
 "cells": [
  {
   "cell_type": "markdown",
   "id": "d0c9aaf3-abe3-4900-a02f-dacc55b47ea7",
   "metadata": {},
   "source": [
    "# Datascience Tools and Ecosystem"
   ]
  },
  {
   "cell_type": "markdown",
   "id": "dc48b1c6-c1d1-4003-a661-eb35b6bca3ff",
   "metadata": {},
   "source": [
    "In this notebook, Data Science Tools and Ecosystem are summarized."
   ]
  },
  {
   "attachments": {},
   "cell_type": "markdown",
   "id": "43bfa6e7-03cd-4f67-8daa-35efa168d362",
   "metadata": {},
   "source": [
    "**Objectives:**\n",
    "\n",
    "- List popular languages for Data Science\n",
    "- Commonly used libraries for Data Science\n",
    "- Data Science Tools\n",
    "- Arithmetic Code examples for Python"
   ]
  },
  {
   "cell_type": "markdown",
   "id": "df12900f-44c9-4bf1-ae28-36555e89fc88",
   "metadata": {},
   "source": [
    "Some of the popular languages that Data Scientists use are:\n",
    "\n",
    "1. Python\n",
    "2. R\n",
    "3. Scala\n",
    "4. Julia\n",
    "5. Java"
   ]
  },
  {
   "cell_type": "markdown",
   "id": "aea0b98c-c6be-4768-af40-da6af0809d7a",
   "metadata": {},
   "source": [
    "Some of the commonly used libraries used by Data Scientists include:\n",
    "\n",
    "1. Tensorflow\n",
    "2. scikit-learn\n",
    "3. numpy\n",
    "4. pandas\n",
    "5. pytorch"
   ]
  },
  {
   "cell_type": "markdown",
   "id": "91578cd7-8e00-4bb6-8e2a-37ff3d78c4d9",
   "metadata": {},
   "source": [
    "|Data Science Tools|\n",
    "|----------------------|\n",
    "|RStudio|\n",
    "|Apache Spark|\n",
    "|Apache Hadoop|\n",
    "|Tensor Flow|"
   ]
  },
  {
   "cell_type": "markdown",
   "id": "90102a05",
   "metadata": {},
   "source": [
    "### Below are a few examples of evaluating arithmetic expressions in Python\n",
    "\n",
    "3 + 7\n",
    "\n",
    "2 + 0\n",
    "\n",
    "5 + 101"
   ]
  },
  {
   "cell_type": "code",
   "execution_count": 3,
   "id": "82c3bf3a",
   "metadata": {},
   "outputs": [
    {
     "data": {
      "text/plain": [
       "17"
      ]
     },
     "execution_count": 3,
     "metadata": {},
     "output_type": "execute_result"
    }
   ],
   "source": [
    "# This a simple arithmetic expression to mutiply then add integers\n",
    "(3*4)+5"
   ]
  },
  {
   "cell_type": "code",
   "execution_count": 2,
   "id": "f0ad97a5-3473-479d-96f1-c4144424454f",
   "metadata": {
    "tags": []
   },
   "outputs": [
    {
     "data": {
      "text/plain": [
       "3.3333333333333335"
      ]
     },
     "execution_count": 2,
     "metadata": {},
     "output_type": "execute_result"
    }
   ],
   "source": [
    "# This will convert 200 minutes to hours by diving by 60\n",
    "\n",
    "mins = 200\n",
    "mins_to_hour = 200/60\n",
    "mins_to_hour"
   ]
  },
  {
   "cell_type": "markdown",
   "id": "1943b142-7c1b-47d9-9d23-14eca4d8b426",
   "metadata": {},
   "source": [
    "## Author\n",
    "\n",
    "Rampal"
   ]
  },
  {
   "cell_type": "code",
   "execution_count": null,
   "id": "51a02af8-cba8-4e61-9160-5c78e8fe3a13",
   "metadata": {},
   "outputs": [],
   "source": []
  }
 ],
 "metadata": {
  "kernelspec": {
   "display_name": "Python 3",
   "language": "python",
   "name": "python3"
  },
  "language_info": {
   "codemirror_mode": {
    "name": "ipython",
    "version": 3
   },
   "file_extension": ".py",
   "mimetype": "text/x-python",
   "name": "python",
   "nbconvert_exporter": "python",
   "pygments_lexer": "ipython3",
   "version": "3.8.10"
  }
 },
 "nbformat": 4,
 "nbformat_minor": 5
}
